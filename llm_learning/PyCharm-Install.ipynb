{
 "cells": [
  {
   "cell_type": "markdown",
   "id": "1dbe5ce4-f302-4199-a48f-e940f88f6a1b",
   "metadata": {},
   "source": [
    "# 1. 安装PyCharm开发工具"
   ]
  },
  {
   "cell_type": "markdown",
   "id": "bcf6d716-90dd-4460-9b0d-57b31a9b6c44",
   "metadata": {},
   "source": [
    "&emsp;&emsp;`PyCharm` 是一个功能强大、全面集成的 IDE，能够大大提高 `Python` 项目开发的效率，尤其适合需要调试、管理虚拟环境、测试、版本控制和重构的复杂项目。一般在项目开发阶段往往开发者都会选择`PyCharm` 而非`Jupyter Lab`。除此以外，大家也可以使用 👉 [VsCode](https://code.visualstudio.com/)。"
   ]
  },
  {
   "cell_type": "markdown",
   "id": "67358421-83ab-466f-b281-902efc29859e",
   "metadata": {},
   "source": [
    "- **Step 1. [【点击进入】Pycharm IDE](https://www.jetbrains.com/zh-cn/products/) 官网 下载 `Pycharm`**"
   ]
  },
  {
   "cell_type": "markdown",
   "id": "a65ef367-2152-486f-9320-2a78a09ef6e8",
   "metadata": {},
   "source": [
    "&emsp;&emsp;直接选择最新版本的`PyCharm`版本下载即可。"
   ]
  },
  {
   "cell_type": "markdown",
   "id": "67fc2fd8-c098-4bc2-98b6-4fa85f6bde0c",
   "metadata": {},
   "source": [
    "<div align=center><img src=\"https://muyu20241105.oss-cn-beijing.aliyuncs.com/images/202411281730715.png\" width=100%></div>"
   ]
  },
  {
   "cell_type": "markdown",
   "id": "b83f5f4b-5adc-4097-85a1-77d7ac07554a",
   "metadata": {},
   "source": [
    "- **Step 2. 激活使用**"
   ]
  },
  {
   "cell_type": "markdown",
   "id": "107991a0-e4a2-4860-90ef-7083fc01eb25",
   "metadata": {},
   "source": [
    "&emsp;&emsp;官方正版的`Pycharm`是需要付费使用，**仅可免费试用30天**，这里我们给大家提供了【神秘软件】，进入百度网盘下载激活软件，进行激活：[【点击进入】百度网盘资源 ](https://pan.baidu.com/s/1CxkPC4phbzxsdNgEZ9Ewkg?pwd=mj58) ,   此方法激活操作非常简单，但**需要注意的：在`Step 1`安装好`Pycharm`后，需要先打开一次，再关闭，最后在执行激活操作。注意顺序！！！**"
   ]
  },
  {
   "cell_type": "markdown",
   "id": "3af5c5f9-4913-4530-ae97-4a97e7132da3",
   "metadata": {},
   "source": [
    "- **Step 3. 验证激活情况**"
   ]
  },
  {
   "cell_type": "markdown",
   "id": "7dfcad74-d076-4229-bb66-c5b0394cb10f",
   "metadata": {},
   "source": [
    "&emsp;&emsp;激活完成后，打开 `PyCharm IDE` ，在顶部菜单中，依次点击 `Help → Register`，此页面会显示你使用的许可证类型和到期日期。如下所示："
   ]
  },
  {
   "cell_type": "markdown",
   "id": "05fd5bba-44ad-448b-81a9-6f074c5c3474",
   "metadata": {},
   "source": [
    "<div align=center><img src=\"https://muyu20241105.oss-cn-beijing.aliyuncs.com/images/202411281742584.png\" width=100%></div>"
   ]
  },
  {
   "cell_type": "markdown",
   "id": "28109496-c2ca-44e6-a8d4-0b3bb51e6960",
   "metadata": {},
   "source": [
    "&emsp;&emsp;如果是`2099`年，则说明前一步激活成功。否则，请重新执行激活过程。"
   ]
  },
  {
   "cell_type": "markdown",
   "id": "8152d733-d6da-469e-8143-f1cf702a1bcd",
   "metadata": {},
   "source": [
    "<div align=center><img src=\"https://muyu20241105.oss-cn-beijing.aliyuncs.com/images/202411281742586.png\" width=100%></div>"
   ]
  }
 ],
 "metadata": {
  "kernelspec": {
   "display_name": "py12_llm",
   "language": "python",
   "name": "python3"
  },
  "language_info": {
   "codemirror_mode": {
    "name": "ipython",
    "version": 3
   },
   "file_extension": ".py",
   "mimetype": "text/x-python",
   "name": "python",
   "nbconvert_exporter": "python",
   "pygments_lexer": "ipython3",
   "version": "3.12.0"
  }
 },
 "nbformat": 4,
 "nbformat_minor": 5
}
